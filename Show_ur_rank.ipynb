{
 "cells": [
  {
   "cell_type": "code",
   "execution_count": 1,
   "id": "ee58fad8-392a-4883-b229-1d8652ff7af6",
   "metadata": {},
   "outputs": [],
   "source": [
    "# 필요 라이브러리 임포트 및 옵션 설정\n",
    "\n",
    "import selenium\n",
    "from selenium import webdriver\n",
    "from selenium.webdriver.common.keys import Keys\n",
    "from selenium.webdriver.support.ui import Select\n",
    "from selenium.webdriver import ActionChains\n",
    "from selenium.webdriver.common.by import By\n",
    "import pandas as pd\n",
    "import numpy as np\n",
    "import time\n",
    "import warnings\n",
    "from datetime import datetime as dt\n",
    "import re\n",
    "warnings.filterwarnings('ignore')\n",
    "\n",
    "# row 생략 없이 출력\n",
    "pd.set_option('display.max_rows', None)\n",
    "# col 생략 없이 출력\n",
    "pd.set_option('display.max_columns', None)"
   ]
  },
  {
   "cell_type": "code",
   "execution_count": 18,
   "id": "d3f2b85c-8989-4247-9f81-f2428f62e5d3",
   "metadata": {},
   "outputs": [],
   "source": [
    "# 댓글 크롤링\n",
    "\n",
    "options = webdriver.ChromeOptions()\n",
    "# options.add_argument('headless')\n",
    "\n",
    "driver = webdriver.Chrome('./chromedriver', options=options)\n",
    "driver.get('https://paige.kr.nc.com/community/clubhouse/post/394435') # 답변 링크 입력\n",
    "action = ActionChains(driver)\n",
    "\n",
    "# 닉네임 수집\n",
    "nickname = driver.find_elements(By.CLASS_NAME, 'nickname')\n",
    "nickname = nickname[1:]\n",
    "\n",
    "# 로그인\n",
    "driver.find_element(By.XPATH, '//*[@id=\"__layout\"]/div/header/div/div/nav/div/div[3]/button').click()\n",
    "driver.implicitly_wait(2)\n",
    "driver.find_element(By.XPATH, '//*[@id=\"__layout\"]/div/div/div/div/div/div[2]/button').click()\n",
    "driver.implicitly_wait(2)\n",
    "input_sec = driver.find_elements(By.TAG_NAME, 'input')\n",
    "driver.implicitly_wait(2)\n",
    "\n",
    "idpw = ['paige@ncsoft.com', 'Paige0430']\n",
    "\n",
    "for num, i in enumerate(input_sec):\n",
    "    i.send_keys(idpw[num])\n",
    "\n",
    "driver.find_element(By.XPATH, '//*[@id=\"__layout\"]/div/div/div/div/div[2]/form/button').click()\n",
    "driver.implicitly_wait(2)\n",
    "\n",
    "# 답글 달기\n",
    "reply_but = driver.find_elements(By.CLASS_NAME, 'button-reply')\n",
    "driver.implicitly_wait(2)\n",
    "for r_but in reply_but:\n",
    "    r_but.click()\n",
    "    \n",
    "reply_box = driver.find_elements(By.CLASS_NAME, 'text-area')\n",
    "driver.implicitly_wait(2)\n",
    "for r_box in reply_box:\n",
    "    r_box.send_keys('안녕하세요?')\n",
    "    \n",
    "for count in range(1, len(nickname)):\n",
    "    try:\n",
    "        submit_but = driver.find_element(By.XPATH, '//*[@id=\"__layout\"]/div/div[2]/div/div[1]/div/div[5]/div[2]/div[{}]/div[2]/div/div/div[2]/button'.format(str(count)))\n",
    "        action.move_to_element(submit_but).perform()\n",
    "        submit_but.click()\n",
    "    except:\n",
    "        pass"
   ]
  },
  {
   "cell_type": "markdown",
   "id": "91ecd2d1-c20a-4727-9aa0-895dd07dc4e0",
   "metadata": {},
   "source": [
    "---\n",
    "### 실시간 선택 비율"
   ]
  },
  {
   "cell_type": "code",
   "execution_count": 1,
   "id": "b0de246d-4200-4424-bcf2-33a37737d533",
   "metadata": {},
   "outputs": [],
   "source": [
    "import pandas as pd\n",
    "import os"
   ]
  },
  {
   "cell_type": "code",
   "execution_count": 2,
   "id": "428410fd-351e-4d0c-8c3c-1ecaa181b6ce",
   "metadata": {},
   "outputs": [],
   "source": [
    "os.chdir('크롤링 댓글 모음/필터링')"
   ]
  },
  {
   "cell_type": "code",
   "execution_count": 24,
   "id": "99d7c035-9fb9-40d9-b481-70fc77af30d2",
   "metadata": {},
   "outputs": [],
   "source": [
    "file_list = ['Filtering_comment_1101.xlsx',\n",
    "            'Filtering_comment_1102.xlsx',\n",
    "            'Filtering_comment_1104.xlsx',\n",
    "            'Filtering_comment_1105.xlsx',\n",
    "            'Filtering_comment_1107.xlsx',\n",
    "            'Filtering_comment_1108.xlsx']"
   ]
  },
  {
   "cell_type": "code",
   "execution_count": 25,
   "id": "d4a76f8d-f9ff-493c-b735-41d396fcc38c",
   "metadata": {},
   "outputs": [
    {
     "name": "stdout",
     "output_type": "stream",
     "text": [
      "(1758, 1)\n",
      "(1416, 1)\n",
      "(1434, 1)\n",
      "(1236, 1)\n",
      "(1374, 1)\n",
      "(1248, 1)\n"
     ]
    }
   ],
   "source": [
    "ps_count = pd.DataFrame(columns = ['Pick'])\n",
    "\n",
    "for file in file_list:\n",
    "    df = pd.read_excel(file, index_col=0)\n",
    "    df_1 = pd.DataFrame(df['Pick_1'])\n",
    "    df_1.columns = [\"Pick\"]\n",
    "    df_2 = pd.DataFrame(df['Pick_2'])\n",
    "    df_2.columns = [\"Pick\"]\n",
    "    df_3 = pd.DataFrame(df['Pick_3'])\n",
    "    df_3.columns = [\"Pick\"]\n",
    "    \n",
    "    count_df = pd.concat([df_1, df_2, df_3])\n",
    "    print(count_df.shape)\n",
    "    \n",
    "    ps_count = pd.concat([ps_count, count_df])"
   ]
  },
  {
   "cell_type": "code",
   "execution_count": 26,
   "id": "a7596c71-e4c3-4bb4-aec5-c166af24ced6",
   "metadata": {},
   "outputs": [
    {
     "data": {
      "text/plain": [
       "(8466, 1)"
      ]
     },
     "execution_count": 26,
     "metadata": {},
     "output_type": "execute_result"
    }
   ],
   "source": [
    "ps_count.shape"
   ]
  },
  {
   "cell_type": "code",
   "execution_count": 27,
   "id": "59ebc108-15bc-4d91-a08b-0edf6b70b97c",
   "metadata": {},
   "outputs": [
    {
     "data": {
      "text/plain": [
       "Pick   \n",
       "이정후(51)    2023\n",
       "최정(14)     1900\n",
       "푸이그(66)    1238\n",
       "한유섬(35)     863\n",
       "최지훈(54)     569\n",
       "           ... \n",
       "애플러(8)        1\n",
       "안우진(41)       1\n",
       "아정후(51)       1\n",
       "송성문(54)       1\n",
       "햐유섬(35)       1\n",
       "Length: 128, dtype: int64"
      ]
     },
     "execution_count": 27,
     "metadata": {},
     "output_type": "execute_result"
    }
   ],
   "source": [
    "ps_count.value_counts()"
   ]
  },
  {
   "cell_type": "code",
   "execution_count": 28,
   "id": "432f7a58-8c50-4893-9746-dec79a48dd0a",
   "metadata": {},
   "outputs": [
    {
     "data": {
      "text/plain": [
       "Pick   \n",
       "이정후(51)    23.895582\n",
       "최정(14)     22.442712\n",
       "푸이그(66)    14.623199\n",
       "한유섬(35)    10.193716\n",
       "최지훈(54)     6.721002\n",
       "             ...    \n",
       "애플러(8)      0.011812\n",
       "안우진(41)     0.011812\n",
       "아정후(51)     0.011812\n",
       "송성문(54)     0.011812\n",
       "햐유섬(35)     0.011812\n",
       "Length: 128, dtype: float64"
      ]
     },
     "execution_count": 28,
     "metadata": {},
     "output_type": "execute_result"
    }
   ],
   "source": [
    "ps_count.value_counts() / ps_count.shape[0] * 100"
   ]
  },
  {
   "cell_type": "raw",
   "id": "3e005018-5f0b-4f5d-b514-946ce2374061",
   "metadata": {},
   "source": [
    "오후 2시 40분 현재 기준 Pick TOP3\n",
    "\n",
    "- 이정후 : 353명 중 286명 (81%)\n",
    "- 푸이그 : 353명 중 181명 (51.3%)\n",
    "- 김현수 : 353명 중 179명 (50.7%)\n",
    "- 이형종 : 350명 중 7명 (2%)\n",
    "- 김민성 : 350명 중 3명 (0.9%)"
   ]
  },
  {
   "cell_type": "markdown",
   "id": "027fea92-b599-476d-8d42-d258be12fdf0",
   "metadata": {},
   "source": [
    "---\n",
    "### 출석점수"
   ]
  },
  {
   "cell_type": "code",
   "execution_count": 23,
   "id": "abeccc6e-329a-4cb0-a838-23bbf5a4fb62",
   "metadata": {},
   "outputs": [
    {
     "data": {
      "text/plain": [
       "'C:\\\\Users\\\\tlsfkaus4862\\\\Desktop\\\\data_analysis\\\\trio_predict\\\\운영프로그램'"
      ]
     },
     "execution_count": 23,
     "metadata": {},
     "output_type": "execute_result"
    }
   ],
   "source": [
    "import os\n",
    "os.getcwd()"
   ]
  },
  {
   "cell_type": "code",
   "execution_count": 22,
   "id": "1aff4750-99c2-425b-9585-b7eeb7a8ce7d",
   "metadata": {},
   "outputs": [],
   "source": [
    "os.chdir('운영프로그램')"
   ]
  },
  {
   "cell_type": "code",
   "execution_count": 24,
   "id": "a7fa22e1-0f48-4633-8e1f-6bc0019b705f",
   "metadata": {},
   "outputs": [],
   "source": [
    "df = pd.read_excel('누적 점수 계산시트.xlsx', sheet_name=[0,1,2,3], index_col=0)\n",
    "df_check = pd.read_excel('check.xlsx', index_col=0)"
   ]
  },
  {
   "cell_type": "code",
   "execution_count": 31,
   "id": "0b75c786-d6fd-402f-b611-bc62425c5c46",
   "metadata": {},
   "outputs": [
    {
     "data": {
      "text/html": [
       "<div>\n",
       "<style scoped>\n",
       "    .dataframe tbody tr th:only-of-type {\n",
       "        vertical-align: middle;\n",
       "    }\n",
       "\n",
       "    .dataframe tbody tr th {\n",
       "        vertical-align: top;\n",
       "    }\n",
       "\n",
       "    .dataframe thead th {\n",
       "        text-align: right;\n",
       "    }\n",
       "</style>\n",
       "<table border=\"1\" class=\"dataframe\">\n",
       "  <thead>\n",
       "    <tr style=\"text-align: right;\">\n",
       "      <th></th>\n",
       "      <th>닉네임</th>\n",
       "      <th>점수</th>\n",
       "    </tr>\n",
       "  </thead>\n",
       "  <tbody>\n",
       "    <tr>\n",
       "      <th>0</th>\n",
       "      <td>심단주노담</td>\n",
       "      <td>104.0</td>\n",
       "    </tr>\n",
       "    <tr>\n",
       "      <th>1</th>\n",
       "      <td>삼성의주환</td>\n",
       "      <td>112.0</td>\n",
       "    </tr>\n",
       "    <tr>\n",
       "      <th>2</th>\n",
       "      <td>anrndhwa</td>\n",
       "      <td>107.0</td>\n",
       "    </tr>\n",
       "    <tr>\n",
       "      <th>3</th>\n",
       "      <td>조형우</td>\n",
       "      <td>91.5</td>\n",
       "    </tr>\n",
       "    <tr>\n",
       "      <th>4</th>\n",
       "      <td>정희정</td>\n",
       "      <td>101.5</td>\n",
       "    </tr>\n",
       "    <tr>\n",
       "      <th>...</th>\n",
       "      <td>...</td>\n",
       "      <td>...</td>\n",
       "    </tr>\n",
       "    <tr>\n",
       "      <th>1780</th>\n",
       "      <td>이갱</td>\n",
       "      <td>5.5</td>\n",
       "    </tr>\n",
       "    <tr>\n",
       "      <th>1781</th>\n",
       "      <td>라가네스</td>\n",
       "      <td>2.5</td>\n",
       "    </tr>\n",
       "    <tr>\n",
       "      <th>1782</th>\n",
       "      <td>이재희</td>\n",
       "      <td>5.5</td>\n",
       "    </tr>\n",
       "    <tr>\n",
       "      <th>1783</th>\n",
       "      <td>최금강공필성</td>\n",
       "      <td>1.0</td>\n",
       "    </tr>\n",
       "    <tr>\n",
       "      <th>1784</th>\n",
       "      <td>혜성을위해</td>\n",
       "      <td>7.5</td>\n",
       "    </tr>\n",
       "  </tbody>\n",
       "</table>\n",
       "<p>1785 rows × 2 columns</p>\n",
       "</div>"
      ],
      "text/plain": [
       "           닉네임     점수\n",
       "0        심단주노담  104.0\n",
       "1        삼성의주환  112.0\n",
       "2     anrndhwa  107.0\n",
       "3          조형우   91.5\n",
       "4          정희정  101.5\n",
       "...        ...    ...\n",
       "1780        이갱    5.5\n",
       "1781      라가네스    2.5\n",
       "1782       이재희    5.5\n",
       "1783    최금강공필성    1.0\n",
       "1784     혜성을위해    7.5\n",
       "\n",
       "[1785 rows x 2 columns]"
      ]
     },
     "execution_count": 31,
     "metadata": {},
     "output_type": "execute_result"
    }
   ],
   "source": [
    "df[0]"
   ]
  },
  {
   "cell_type": "code",
   "execution_count": 32,
   "id": "2242caed-9301-4e5a-b6a3-217ce6f7a38d",
   "metadata": {},
   "outputs": [
    {
     "name": "stderr",
     "output_type": "stream",
     "text": [
      "C:\\Users\\tlsfkaus4862\\AppData\\Local\\Temp\\ipykernel_26240\\2604011797.py:3: SettingWithCopyWarning: \n",
      "A value is trying to be set on a copy of a slice from a DataFrame\n",
      "\n",
      "See the caveats in the documentation: https://pandas.pydata.org/pandas-docs/stable/user_guide/indexing.html#returning-a-view-versus-a-copy\n",
      "  df[0]['점수'][i] += 5\n"
     ]
    }
   ],
   "source": [
    "for i in df[0].index:\n",
    "    if df[0]['닉네임'][i] in list(df_check['닉네임']):\n",
    "        df[0]['점수'][i] += 5"
   ]
  },
  {
   "cell_type": "code",
   "execution_count": 33,
   "id": "5b0e8e20-b179-49fe-8739-87d6986cae0b",
   "metadata": {},
   "outputs": [
    {
     "data": {
      "text/html": [
       "<div>\n",
       "<style scoped>\n",
       "    .dataframe tbody tr th:only-of-type {\n",
       "        vertical-align: middle;\n",
       "    }\n",
       "\n",
       "    .dataframe tbody tr th {\n",
       "        vertical-align: top;\n",
       "    }\n",
       "\n",
       "    .dataframe thead th {\n",
       "        text-align: right;\n",
       "    }\n",
       "</style>\n",
       "<table border=\"1\" class=\"dataframe\">\n",
       "  <thead>\n",
       "    <tr style=\"text-align: right;\">\n",
       "      <th></th>\n",
       "      <th>닉네임</th>\n",
       "      <th>점수</th>\n",
       "    </tr>\n",
       "  </thead>\n",
       "  <tbody>\n",
       "    <tr>\n",
       "      <th>0</th>\n",
       "      <td>심단주노담</td>\n",
       "      <td>109.0</td>\n",
       "    </tr>\n",
       "    <tr>\n",
       "      <th>1</th>\n",
       "      <td>삼성의주환</td>\n",
       "      <td>117.0</td>\n",
       "    </tr>\n",
       "    <tr>\n",
       "      <th>2</th>\n",
       "      <td>anrndhwa</td>\n",
       "      <td>112.0</td>\n",
       "    </tr>\n",
       "    <tr>\n",
       "      <th>3</th>\n",
       "      <td>조형우</td>\n",
       "      <td>91.5</td>\n",
       "    </tr>\n",
       "    <tr>\n",
       "      <th>4</th>\n",
       "      <td>정희정</td>\n",
       "      <td>106.5</td>\n",
       "    </tr>\n",
       "    <tr>\n",
       "      <th>...</th>\n",
       "      <td>...</td>\n",
       "      <td>...</td>\n",
       "    </tr>\n",
       "    <tr>\n",
       "      <th>1780</th>\n",
       "      <td>이갱</td>\n",
       "      <td>5.5</td>\n",
       "    </tr>\n",
       "    <tr>\n",
       "      <th>1781</th>\n",
       "      <td>라가네스</td>\n",
       "      <td>2.5</td>\n",
       "    </tr>\n",
       "    <tr>\n",
       "      <th>1782</th>\n",
       "      <td>이재희</td>\n",
       "      <td>5.5</td>\n",
       "    </tr>\n",
       "    <tr>\n",
       "      <th>1783</th>\n",
       "      <td>최금강공필성</td>\n",
       "      <td>1.0</td>\n",
       "    </tr>\n",
       "    <tr>\n",
       "      <th>1784</th>\n",
       "      <td>혜성을위해</td>\n",
       "      <td>7.5</td>\n",
       "    </tr>\n",
       "  </tbody>\n",
       "</table>\n",
       "<p>1785 rows × 2 columns</p>\n",
       "</div>"
      ],
      "text/plain": [
       "           닉네임     점수\n",
       "0        심단주노담  109.0\n",
       "1        삼성의주환  117.0\n",
       "2     anrndhwa  112.0\n",
       "3          조형우   91.5\n",
       "4          정희정  106.5\n",
       "...        ...    ...\n",
       "1780        이갱    5.5\n",
       "1781      라가네스    2.5\n",
       "1782       이재희    5.5\n",
       "1783    최금강공필성    1.0\n",
       "1784     혜성을위해    7.5\n",
       "\n",
       "[1785 rows x 2 columns]"
      ]
     },
     "execution_count": 33,
     "metadata": {},
     "output_type": "execute_result"
    }
   ],
   "source": [
    "df[0]"
   ]
  },
  {
   "cell_type": "code",
   "execution_count": 34,
   "id": "3d30caac-77cb-4270-bca7-066e3686828c",
   "metadata": {},
   "outputs": [],
   "source": [
    "#1. 파일 생성\n",
    "writer=pd.ExcelWriter('누적 점수 계산시트.xlsx', engine='openpyxl')\n",
    " \n",
    "#2. 생성 파일에 시트명 지정 후 dataframe에 저장한 결과값 넣기\n",
    "df[0].to_excel(writer, sheet_name='유저 누적')\n",
    "df[1].to_excel(writer, sheet_name='선수 누적')\n",
    "df[2].to_excel(writer, sheet_name='유저 로그')\n",
    "df[3].to_excel(writer, sheet_name='선수 로그')\n",
    " \n",
    "#3. 작성 완료 후 파일 저장\n",
    "writer.save()\n"
   ]
  },
  {
   "cell_type": "markdown",
   "id": "c260df5b-5f94-41be-ac9f-7ae5ea56f464",
   "metadata": {},
   "source": [
    "--------------------------\n",
    "## 호수비 영상 좋아요 수 크롤링"
   ]
  },
  {
   "cell_type": "code",
   "execution_count": null,
   "id": "bd591d15-54e9-4487-acf7-0e8007e5d7ed",
   "metadata": {},
   "outputs": [],
   "source": []
  },
  {
   "cell_type": "code",
   "execution_count": 4,
   "id": "44be752f-33fa-4fd9-bd69-67adb787a351",
   "metadata": {},
   "outputs": [
    {
     "name": "stdout",
     "output_type": "stream",
     "text": [
      "28\n"
     ]
    }
   ],
   "source": [
    "# 댓글 크롤링\n",
    "\n",
    "options = webdriver.ChromeOptions()\n",
    "# options.add_argument('headless')\n",
    "\n",
    "driver = webdriver.Chrome('./chromedriver', options=options)\n",
    "driver.get('https://paige.kr.nc.com/shared/video/224152') # 답변 링크 입력\n",
    "action = ActionChains(driver)\n",
    "\n",
    "# 닉네임 수집\n",
    "like_counts = driver.find_element(By.XPATH, '//*[@id=\"__layout\"]/div/div[2]/div[2]/div[1]/div[2]/button[1]/span')\n",
    "print(like_counts.text)"
   ]
  },
  {
   "cell_type": "code",
   "execution_count": null,
   "id": "699ff226-4240-4b2f-a9a6-55c2fae6afef",
   "metadata": {},
   "outputs": [],
   "source": []
  }
 ],
 "metadata": {
  "kernelspec": {
   "display_name": "Python 3 (ipykernel)",
   "language": "python",
   "name": "python3"
  },
  "language_info": {
   "codemirror_mode": {
    "name": "ipython",
    "version": 3
   },
   "file_extension": ".py",
   "mimetype": "text/x-python",
   "name": "python",
   "nbconvert_exporter": "python",
   "pygments_lexer": "ipython3",
   "version": "3.9.12"
  }
 },
 "nbformat": 4,
 "nbformat_minor": 5
}
